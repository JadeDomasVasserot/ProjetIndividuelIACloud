{
 "cells": [
  {
   "cell_type": "markdown",
   "metadata": {
    "id": "NiOoCp6O37Ho"
   },
   "source": [
    "<img src='https://cdn-dynmedia-1.microsoft.com/is/image/microsoftcorp/Introduction-to-Azure-Blob-Storage_tbmnl_en-us?scl=1'>\n",
    "\n",
    "\n",
    "\n",
    "Sources = https://learn.microsoft.com/en-us/azure/storage/blobs/storage-blob-python-get-started?tabs=azure-ad\n",
    "\n",
    "### Installation des packages nécessaires\n",
    "\n",
    "`pip install azure-storage-blob`"
   ]
  },
  {
   "cell_type": "markdown",
   "metadata": {
    "id": "G9-IW0Q337Hp"
   },
   "source": [
    "### Importation des packages"
   ]
  },
  {
   "cell_type": "code",
   "execution_count": 27,
   "metadata": {
    "colab": {
     "base_uri": "https://localhost:8080/"
    },
    "executionInfo": {
     "elapsed": 5894,
     "status": "ok",
     "timestamp": 1738753035192,
     "user": {
      "displayName": "Kévin Duranty",
      "userId": "17936416485008719452"
     },
     "user_tz": -60
    },
    "id": "9bu3FY1xwZvD",
    "outputId": "856e9634-15d8-4ce7-cd72-0369646668a5"
   },
   "outputs": [
    {
     "name": "stdout",
     "output_type": "stream",
     "text": [
      "Requirement already satisfied: azure-storage-blob in /Users/jadedomas-vasserot/miniconda3/lib/python3.12/site-packages (12.24.1)\n",
      "Requirement already satisfied: azure-core>=1.30.0 in /Users/jadedomas-vasserot/miniconda3/lib/python3.12/site-packages (from azure-storage-blob) (1.32.0)\n",
      "Requirement already satisfied: cryptography>=2.1.4 in /Users/jadedomas-vasserot/miniconda3/lib/python3.12/site-packages (from azure-storage-blob) (42.0.0)\n",
      "Requirement already satisfied: typing-extensions>=4.6.0 in /Users/jadedomas-vasserot/miniconda3/lib/python3.12/site-packages (from azure-storage-blob) (4.10.0)\n",
      "Requirement already satisfied: isodate>=0.6.1 in /Users/jadedomas-vasserot/miniconda3/lib/python3.12/site-packages (from azure-storage-blob) (0.7.2)\n",
      "Requirement already satisfied: requests>=2.21.0 in /Users/jadedomas-vasserot/miniconda3/lib/python3.12/site-packages (from azure-core>=1.30.0->azure-storage-blob) (2.31.0)\n",
      "Requirement already satisfied: six>=1.11.0 in /Users/jadedomas-vasserot/miniconda3/lib/python3.12/site-packages (from azure-core>=1.30.0->azure-storage-blob) (1.17.0)\n",
      "Requirement already satisfied: cffi>=1.12 in /Users/jadedomas-vasserot/miniconda3/lib/python3.12/site-packages (from cryptography>=2.1.4->azure-storage-blob) (1.17.1)\n",
      "Requirement already satisfied: pycparser in /Users/jadedomas-vasserot/miniconda3/lib/python3.12/site-packages (from cffi>=1.12->cryptography>=2.1.4->azure-storage-blob) (2.21)\n",
      "Requirement already satisfied: charset-normalizer<4,>=2 in /Users/jadedomas-vasserot/miniconda3/lib/python3.12/site-packages (from requests>=2.21.0->azure-core>=1.30.0->azure-storage-blob) (3.3.2)\n",
      "Requirement already satisfied: idna<4,>=2.5 in /Users/jadedomas-vasserot/miniconda3/lib/python3.12/site-packages (from requests>=2.21.0->azure-core>=1.30.0->azure-storage-blob) (3.7)\n",
      "Requirement already satisfied: urllib3<3,>=1.21.1 in /Users/jadedomas-vasserot/miniconda3/lib/python3.12/site-packages (from requests>=2.21.0->azure-core>=1.30.0->azure-storage-blob) (2.2.3)\n",
      "Requirement already satisfied: certifi>=2017.4.17 in /Users/jadedomas-vasserot/miniconda3/lib/python3.12/site-packages (from requests>=2.21.0->azure-core>=1.30.0->azure-storage-blob) (2024.8.30)\n",
      "Note: you may need to restart the kernel to use updated packages.\n"
     ]
    }
   ],
   "source": [
    "pip install azure-storage-blob"
   ]
  },
  {
   "cell_type": "code",
   "execution_count": 28,
   "metadata": {
    "id": "jYdY7A8137Hp"
   },
   "outputs": [],
   "source": [
    "from azure.storage.blob import BlobServiceClient\n",
    "\n",
    "\n",
    "storage_account_key = \"1KkwHkZNcTsbjIUjHA1/JYL2PJ3GiM8RzahijVuHJ0+PH4q9UvfBt7FNso+pVaNl4nD/ARpP7V6h+AStY+D3Jw==\"\n",
    "storage_account_name = \"jadeynovapi\"\n",
    "connection_string = \"DefaultEndpointsProtocol=https;AccountName=jadeynovapi;AccountKey=1KkwHkZNcTsbjIUjHA1/JYL2PJ3GiM8RzahijVuHJ0+PH4q9UvfBt7FNso+pVaNl4nD/ARpP7V6h+AStY+D3Jw==;EndpointSuffix=core.windows.net\"\n",
    "container_name = \"jadecontainerstorage\""
   ]
  },
  {
   "cell_type": "markdown",
   "metadata": {
    "id": "GBdhXB6437Hq"
   },
   "source": [
    "### Upload d'un fichier"
   ]
  },
  {
   "cell_type": "code",
   "execution_count": 29,
   "metadata": {
    "colab": {
     "base_uri": "https://localhost:8080/"
    },
    "executionInfo": {
     "elapsed": 325,
     "status": "ok",
     "timestamp": 1738753091054,
     "user": {
      "displayName": "Kévin Duranty",
      "userId": "17936416485008719452"
     },
     "user_tz": -60
    },
    "id": "37A7V_qA37Hq",
    "outputId": "c645bb78-e7b8-4488-bbac-481494c78f56"
   },
   "outputs": [
    {
     "name": "stdout",
     "output_type": "stream",
     "text": [
      "Uploaded img1.\n"
     ]
    }
   ],
   "source": [
    "# function to upload file to blob storage\n",
    "def uploadToBlobStorage(file_path,file_name):\n",
    "   blob_service_client = BlobServiceClient.from_connection_string(connection_string)\n",
    "   blob_client = blob_service_client.get_blob_client(container=container_name, blob=file_name)\n",
    "   with open(file_path,\"rb\") as data:\n",
    "      blob_client.upload_blob(data)\n",
    "      print(f\"Uploaded {file_name}.\")\n",
    "\n",
    "# calling a function to perform upload\n",
    "uploadToBlobStorage('img1.png','img1')"
   ]
  },
  {
   "cell_type": "markdown",
   "metadata": {
    "id": "IjvrLWSk37Hq"
   },
   "source": [
    "# Téléchargement d'un fichier"
   ]
  },
  {
   "cell_type": "code",
   "execution_count": 30,
   "metadata": {
    "id": "H1OW6YEX37Hr"
   },
   "outputs": [],
   "source": [
    "import os\n",
    "\n",
    "# function to download file from blob storage\n",
    "def download_blob_to_file(file_name, file_path):\n",
    "    blob_service_client = BlobServiceClient.from_connection_string(connection_string)\n",
    "    blob_client = blob_service_client.get_blob_client(container=container_name, blob=file_name)\n",
    "    with open(file=file_path, mode=\"wb\") as sample_blob:\n",
    "        download_stream = blob_client.download_blob()\n",
    "        sample_blob.write(download_stream.readall())\n",
    "\n",
    "# calling a function to perform download\n",
    "download_blob_to_file('img1','img2.png')"
   ]
  },
  {
   "cell_type": "markdown",
   "metadata": {
    "id": "jS5s5V5137Hr"
   },
   "source": [
    "### Exercice 1 : Créer un container\n",
    "\n",
    "1. Créer un container intitulé `nom_train` dans le compte Azure Storage `Ynov` puis uploadez les fichiers contenues dans le dossier `nom_train` dans ce container.\n",
    "\n",
    "2. Créer un container intitulé `nom_validation` dans le compte Azure Storage `Ynov` puis uploadez les fichiers contenues dans le dossier `nom_validation` dans ce container.\n",
    "\n",
    "3. Créez une fonction capable de lister les fichiers contenus dans un container. Ressources utiles :\n",
    "https://learn.microsoft.com/en-us/azure/storage/blobs/storage-blobs-list-python\n",
    "\n",
    "4. Créez une fonction capable de télécharger un fichier d'un container à partir d'une liste de fichiers."
   ]
  },
  {
   "cell_type": "code",
   "execution_count": 31,
   "metadata": {
    "id": "-pU_PLA737Hs"
   },
   "outputs": [],
   "source": [
    "def show_files(container_name, connection_string) -> list:\n",
    "    blob_service_client = BlobServiceClient.from_connection_string(connection_string)\n",
    "    return [ u.name for u in blob_service_client.get_container_client(container = container_name).list_blobs()]"
   ]
  },
  {
   "cell_type": "code",
   "execution_count": 32,
   "metadata": {
    "colab": {
     "base_uri": "https://localhost:8080/"
    },
    "executionInfo": {
     "elapsed": 2,
     "status": "ok",
     "timestamp": 1738754843361,
     "user": {
      "displayName": "Kévin Duranty",
      "userId": "17936416485008719452"
     },
     "user_tz": -60
    },
    "id": "Kb_Wef-D37Hs",
    "outputId": "9bc1e7ff-e0c0-467e-b835-43aaf98948ef"
   },
   "outputs": [
    {
     "data": {
      "text/plain": [
       "['img1', 'img2']"
      ]
     },
     "execution_count": 32,
     "metadata": {},
     "output_type": "execute_result"
    }
   ],
   "source": [
    "show_files(container_name, connection_string)"
   ]
  },
  {
   "cell_type": "code",
   "execution_count": 33,
   "metadata": {
    "colab": {
     "base_uri": "https://localhost:8080/"
    },
    "executionInfo": {
     "elapsed": 815,
     "status": "ok",
     "timestamp": 1738754914142,
     "user": {
      "displayName": "Kévin Duranty",
      "userId": "17936416485008719452"
     },
     "user_tz": -60
    },
    "id": "JEmDgbxb37Hs",
    "outputId": "f4fe247f-a821-4001-98a2-c77394a60f23"
   },
   "outputs": [
    {
     "name": "stdout",
     "output_type": "stream",
     "text": [
      "Uploaded california_test.\n",
      "Uploaded california_train.\n"
     ]
    }
   ],
   "source": [
    "uploadToBlobStorage('../TP2 - MLOps avec MLFlow/sample_data/california_housing_test.csv','california_test')\n",
    "uploadToBlobStorage('../TP2 - MLOps avec MLFlow/sample_data/california_housing_train.csv','california_train')"
   ]
  },
  {
   "cell_type": "markdown",
   "metadata": {
    "id": "FXSQXBGm37Hs"
   },
   "source": [
    "### Exercice 2 : Déployement d'une image Docker dans une machine virtuelle Azure\n",
    "\n",
    "1.  L'entraînement du modèle de classification est contenu dans le fichier `train.py`. Modifier ce fichier afin de télécharger les données d'entrainement et de validation depuis votre compte Azure Storage.\n",
    "\n",
    "\n",
    "2. Créer une image Docker à partir du fichier `Dockerfile` permettant l'entrainement d'un modèle de machine learning, déployez ensuite votre image sur DockerHub.\n",
    "\n",
    "\n",
    "3. Créez une machine virtuelle Azure et déployez l'image Docker dans cette machine virtuelle.\n",
    "\n",
    "\n",
    "4. Lancez l'entrainement du modèle de machine learning dans la machine virtuelle Azure à partir de votre image Docker."
   ]
  },
  {
   "cell_type": "code",
   "execution_count": 34,
   "metadata": {
    "id": "yuFhXl8y4Sah"
   },
   "outputs": [
    {
     "name": "stdout",
     "output_type": "stream",
     "text": [
      "Dockerfile created.\n"
     ]
    }
   ],
   "source": [
    "# Docker\n",
    "# Dockerfile content\n",
    "dockerfile_content = \"\"\"\n",
    "# Use an official Python runtime as a parent image\n",
    "FROM python:3.8-slim\n",
    "\n",
    "# Set the working directory in the container\n",
    "WORKDIR /app\n",
    "\n",
    "# Copy the current directory contents into the container at /app\n",
    "ADD . /app\n",
    "\n",
    "# Install any needed packages specified in requirements.txt\n",
    "RUN pip install --no-cache-dir -r requirements.txt\n",
    "\n",
    "# Make port 80 available to the world outside this container\n",
    "EXPOSE 80\n",
    "\n",
    "# Define environment variable\n",
    "ENV NAME World\n",
    "\n",
    "# Run train.py when the container launches\n",
    "CMD [\"python\", \"train.py\"]\n",
    "\"\"\"\n",
    "\n",
    "# Write the Dockerfile content to a file\n",
    "with open(\"Dockerfile\", \"w\") as file:\n",
    "    file.write(dockerfile_content)\n",
    "\n",
    "print(\"Dockerfile created.\")\n",
    "\n"
   ]
  },
  {
   "cell_type": "code",
   "execution_count": null,
   "metadata": {
    "id": "ftAJ621x4SS0"
   },
   "outputs": [],
   "source": [
    "# Fichier Python\n",
    "\n"
   ]
  }
 ],
 "metadata": {
  "colab": {
   "provenance": []
  },
  "kernelspec": {
   "display_name": "base",
   "language": "python",
   "name": "python3"
  },
  "language_info": {
   "codemirror_mode": {
    "name": "ipython",
    "version": 3
   },
   "file_extension": ".py",
   "mimetype": "text/x-python",
   "name": "python",
   "nbconvert_exporter": "python",
   "pygments_lexer": "ipython3",
   "version": "3.12.7"
  },
  "orig_nbformat": 4
 },
 "nbformat": 4,
 "nbformat_minor": 0
}
